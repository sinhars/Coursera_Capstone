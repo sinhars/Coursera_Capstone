{
 "metadata": {
  "language_info": {
   "codemirror_mode": {
    "name": "ipython",
    "version": 3
   },
   "file_extension": ".py",
   "mimetype": "text/x-python",
   "name": "python",
   "nbconvert_exporter": "python",
   "pygments_lexer": "ipython3",
   "version": 3
  },
  "orig_nbformat": 2
 },
 "nbformat": 4,
 "nbformat_minor": 2,
 "cells": [
  {
   "source": [
    "# Capstone Project - The Battle of the Neighborhoods\n",
    "### Applied Data Science Capstone by IBM/Coursera"
   ],
   "cell_type": "markdown",
   "metadata": {}
  },
  {
   "source": [
    "### Table of Contents\n",
    "\n",
    "1. [Introduction - Business Problem](#introduction)\n",
    "2. [Importing Libraries and Initial Setup](#setup)\n",
    "3. [Data Collection, Exploration and Preprocessing](#data)\n",
    "4. [Methodology](#method)\n",
    "5. [Modelling and Analysis](#analysis)\n",
    "6. [Results and Discussion](#result)\n",
    "7. [Conclusion](#conclusion)\n"
   ],
   "cell_type": "markdown",
   "metadata": {}
  },
  {
   "source": [
    "## 1. Introduction - Business Problem <a name=\"introduction\"></a>"
   ],
   "cell_type": "markdown",
   "metadata": {}
  },
  {
   "source": [
    "In this project, we will address the following problem - "
   ],
   "cell_type": "markdown",
   "metadata": {}
  },
  {
   "source": [
    "## 2. Importing Libraries and Initial Setup <a name=\"setup\"></a>"
   ],
   "cell_type": "markdown",
   "metadata": {}
  },
  {
   "source": [
    "## 3. Data Collection, Exploration and Preprocessing <a name=\"data\"></a>"
   ],
   "cell_type": "markdown",
   "metadata": {}
  },
  {
   "source": [
    "## 4. Methodology <a name=\"method\"></a>"
   ],
   "cell_type": "markdown",
   "metadata": {}
  },
  {
   "source": [],
   "cell_type": "markdown",
   "metadata": {}
  }
 ]
}